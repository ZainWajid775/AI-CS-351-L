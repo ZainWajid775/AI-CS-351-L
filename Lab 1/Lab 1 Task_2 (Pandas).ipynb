{
 "cells": [
  {
   "cell_type": "code",
   "execution_count": 3,
   "id": "9cd4766f-96f4-4c4f-83c1-170861598fd3",
   "metadata": {},
   "outputs": [
    {
     "name": "stdout",
     "output_type": "stream",
     "text": [
      "   sepal length (cm)  sepal width (cm)  petal length (cm)  petal width (cm)\n",
      "0                5.1               3.5                1.4               0.2\n",
      "1                4.9               3.0                1.4               0.2\n",
      "2                4.7               3.2                1.3               0.2\n",
      "3                4.6               3.1                1.5               0.2\n",
      "4                5.0               3.6                1.4               0.2\n"
     ]
    }
   ],
   "source": [
    "# Create iris dataframe\n",
    "\n",
    "import pandas as pd\n",
    "from sklearn.datasets import load_iris\n",
    "\n",
    "iris = load_iris()\n",
    "\n",
    "df=pd.DataFrame(data = iris.data , columns = iris.feature_names)\n",
    "\n",
    "print(df.head())"
   ]
  },
  {
   "cell_type": "code",
   "execution_count": 13,
   "id": "55dabbda-6832-4e5b-9867-c72215426d34",
   "metadata": {},
   "outputs": [
    {
     "name": "stdout",
     "output_type": "stream",
     "text": [
      "5.794066666666667\n"
     ]
    }
   ],
   "source": [
    "# Add new column and calculate avg\n",
    "\n",
    "df[\"petal_area\"] = df[\"petal length (cm)\"] * df[\"petal width (cm)\"]\n",
    "print(df[\"petal_area\"].mean())\n"
   ]
  },
  {
   "cell_type": "code",
   "execution_count": 14,
   "id": "9ddb0897-a859-4c8f-b13f-375c21a89ebc",
   "metadata": {},
   "outputs": [
    {
     "name": "stdout",
     "output_type": "stream",
     "text": [
      "    sepal length (cm)  sepal width (cm)  petal length (cm)  petal width (cm)  \\\n",
      "50                7.0               3.2                4.7               1.4   \n",
      "58                6.6               2.9                4.6               1.3   \n",
      "63                6.1               2.9                4.7               1.4   \n",
      "65                6.7               3.1                4.4               1.4   \n",
      "71                6.1               2.8                4.0               1.3   \n",
      "\n",
      "    petal_area  \n",
      "50        6.58  \n",
      "58        5.98  \n",
      "63        6.58  \n",
      "65        6.16  \n",
      "71        5.20  \n"
     ]
    }
   ],
   "source": [
    "# Filter \n",
    "\n",
    "f_df = df[(df[\"sepal length (cm)\"] > 6) & (df[\"petal width (cm)\"] < 1.5)]\n",
    "print(f_df.head())"
   ]
  },
  {
   "cell_type": "code",
   "execution_count": 19,
   "id": "f5692e03-a0ea-47ad-8444-291283f6cd2b",
   "metadata": {},
   "outputs": [
    {
     "name": "stdout",
     "output_type": "stream",
     "text": [
      "sepal length (cm)    5\n",
      "sepal width (cm)     0\n",
      "petal length (cm)    0\n",
      "petal width (cm)     0\n",
      "petal_area           0\n",
      "dtype: int64 \n",
      "\n",
      "sepal length (cm)    0\n",
      "sepal width (cm)     0\n",
      "petal length (cm)    0\n",
      "petal width (cm)     0\n",
      "petal_area           0\n",
      "dtype: int64 \n",
      "\n"
     ]
    },
    {
     "name": "stderr",
     "output_type": "stream",
     "text": [
      "/var/folders/4b/fs9g3qxn63d_7gbb76b56l1m0000gn/T/ipykernel_32256/2535265111.py:11: FutureWarning: A value is trying to be set on a copy of a DataFrame or Series through chained assignment using an inplace method.\n",
      "The behavior will change in pandas 3.0. This inplace method will never work because the intermediate object on which we are setting values always behaves as a copy.\n",
      "\n",
      "For example, when doing 'df[col].method(value, inplace=True)', try using 'df.method({col: value}, inplace=True)' or df[col] = df[col].method(value) instead, to perform the operation inplace on the original object.\n",
      "\n",
      "\n",
      "  df[\"sepal length (cm)\"].fillna(median_value, inplace=True)\n"
     ]
    }
   ],
   "source": [
    "# Random values\n",
    "import numpy as np\n",
    "\n",
    "np.random.seed(42)  \n",
    "missing_indices = np.random.choice(df.index, size=5, replace=False)\n",
    "df.loc[missing_indices, \"sepal length (cm)\"] = np.nan\n",
    "\n",
    "print(df.isna().sum(), \"\\n\")\n",
    "\n",
    "median_value = df[\"sepal length (cm)\"].median()\n",
    "df[\"sepal length (cm)\"].fillna(median_value, inplace=True)\n",
    "\n",
    "print(df.isna().sum(), \"\\n\")"
   ]
  },
  {
   "cell_type": "code",
   "execution_count": null,
   "id": "36092650-9ad4-4c78-8c4a-3899e5bc28ad",
   "metadata": {},
   "outputs": [],
   "source": []
  }
 ],
 "metadata": {
  "kernelspec": {
   "display_name": "Python 3 (ipykernel)",
   "language": "python",
   "name": "python3"
  },
  "language_info": {
   "codemirror_mode": {
    "name": "ipython",
    "version": 3
   },
   "file_extension": ".py",
   "mimetype": "text/x-python",
   "name": "python",
   "nbconvert_exporter": "python",
   "pygments_lexer": "ipython3",
   "version": "3.12.3"
  }
 },
 "nbformat": 4,
 "nbformat_minor": 5
}
