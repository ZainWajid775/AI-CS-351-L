{
 "cells": [
  {
   "cell_type": "code",
   "execution_count": 5,
   "id": "8d0eedaa-c934-4c54-9fa7-93605b20b45c",
   "metadata": {},
   "outputs": [
    {
     "name": "stdout",
     "output_type": "stream",
     "text": [
      "[54 73  8 57 76 29  8 10 20 32 63 90 12 42 98 85  2 59 48 79 15 28 76 89\n",
      " 43 25 68 30 98 27 77  2 11 71 73  3 21 92 75 90 50 92 18 99 83 92 45 55\n",
      " 25 97 60  7 67 50 78  1 42 23 17 47 97 12 97 62 52 27 10 11 75 94 81 76\n",
      " 41 52 82 16 99 70 77 59 56 34 72 18 73 99 30 29 46 84 88 64 74 34 94 73\n",
      " 12 22 32 48]\n"
     ]
    }
   ],
   "source": [
    "#Create array\n",
    "\n",
    "import numpy as np\n",
    "\n",
    "arr = np.array(np.random.randint(1,101,size=100))\n",
    "\n",
    "print(arr)"
   ]
  },
  {
   "cell_type": "code",
   "execution_count": 8,
   "id": "8e04af43-9c4f-4a1e-abd6-c74979c27368",
   "metadata": {},
   "outputs": [
    {
     "name": "stdout",
     "output_type": "stream",
     "text": [
      "52.79\n",
      "54.5\n",
      "30.03840708160138\n"
     ]
    }
   ],
   "source": [
    "# Calculate array stats\n",
    "\n",
    "print(np.mean(arr))\n",
    "print(np.median(arr))\n",
    "print(np.std(arr))"
   ]
  },
  {
   "cell_type": "code",
   "execution_count": 17,
   "id": "3f40e78e-9830-4b86-b0f8-fad2fb94873c",
   "metadata": {},
   "outputs": [
    {
     "name": "stdout",
     "output_type": "stream",
     "text": [
      "[1 2 2 3 7]\n"
     ]
    }
   ],
   "source": [
    "# Sort array and print top 5 values\n",
    "\n",
    "arr.sort()\n",
    "print(arr[0:5])"
   ]
  },
  {
   "cell_type": "code",
   "execution_count": 15,
   "id": "7443b041-4c70-45ef-8f36-3a3349b02dca",
   "metadata": {},
   "outputs": [
    {
     "name": "stdout",
     "output_type": "stream",
     "text": [
      "[[ 0  1  2  3  4]\n",
      " [ 5  6  7  8  9]\n",
      " [10 11 12 13 14]\n",
      " [15 16 17 18 19]\n",
      " [20 21 22 23 24]]\n"
     ]
    }
   ],
   "source": [
    "# Create 5 by 5 matrix\n",
    "\n",
    "matrix = np.arange(25).reshape(5, 5)\n",
    "print(matrix)"
   ]
  },
  {
   "cell_type": "code",
   "execution_count": 16,
   "id": "6efe0b83-fc93-4403-9dc3-7cd2ecc41400",
   "metadata": {},
   "outputs": [
    {
     "name": "stdout",
     "output_type": "stream",
     "text": [
      "[[ 0  1  2  3  4]\n",
      " [ 5  0  7  8  9]\n",
      " [10 11  0 13 14]\n",
      " [15 16 17  0 19]\n",
      " [20 21 22 23  0]]\n"
     ]
    }
   ],
   "source": [
    "# Fill diagonal with zeroes\n",
    "\n",
    "np.fill_diagonal(matrix,0)\n",
    "print(matrix)"
   ]
  },
  {
   "cell_type": "code",
   "execution_count": 17,
   "id": "9a03c3d0-85a5-45e6-881a-5d728f356a6e",
   "metadata": {},
   "outputs": [
    {
     "name": "stdout",
     "output_type": "stream",
     "text": [
      "[[  0   5  20  45  80]\n",
      " [  5   0  77 128 189]\n",
      " [ 20  77   0 221 308]\n",
      " [ 45 128 221   0 437]\n",
      " [ 80 189 308 437   0]]\n"
     ]
    }
   ],
   "source": [
    "# Multiply by transpose\n",
    "\n",
    "mat_transpose = np.transpose(matrix)\n",
    "product = matrix * mat_transpose\n",
    "print(product)"
   ]
  },
  {
   "cell_type": "code",
   "execution_count": 13,
   "id": "f7ca0d59-cd32-40c5-a74d-9262bd740e37",
   "metadata": {},
   "outputs": [
    {
     "name": "stdout",
     "output_type": "stream",
     "text": [
      "[ 0  4 -3  4 -2  3  3  0 -2  1  0 -1  4 -2 -1 -5 -4 -4  0 -2  3  2 -2 -3\n",
      "  0  3 -5 -3  3  1  2  4  3  1 -5 -4  4  4 -4 -1  2  2  1  3  4  0 -4  0\n",
      " -2 -1]\n"
     ]
    }
   ],
   "source": [
    "# Generate 50 random values\n",
    "\n",
    "array = np.random.randint(-5,5,size=50)\n",
    "print(array)"
   ]
  },
  {
   "cell_type": "code",
   "execution_count": 14,
   "id": "c2fbb550-3cfb-4779-be88-32fd7b451ba8",
   "metadata": {},
   "outputs": [
    {
     "name": "stdout",
     "output_type": "stream",
     "text": [
      "Counts:\n",
      "Positive: 22\n",
      "Negative: 21\n",
      "Between -1 and 1: 15\n"
     ]
    }
   ],
   "source": [
    "# Find count of positive and negative\n",
    "\n",
    "positives = np.sum(array > 0)\n",
    "negatives = np.sum(array < 0)\n",
    "between = np.sum((array >= -1) & (array <= 1))\n",
    "\n",
    "print(\"Counts:\")\n",
    "print(\"Positive:\", positives)\n",
    "print(\"Negative:\", negatives)\n",
    "print(\"Between -1 and 1:\", between)"
   ]
  }
 ],
 "metadata": {
  "kernelspec": {
   "display_name": "Python 3 (ipykernel)",
   "language": "python",
   "name": "python3"
  },
  "language_info": {
   "codemirror_mode": {
    "name": "ipython",
    "version": 3
   },
   "file_extension": ".py",
   "mimetype": "text/x-python",
   "name": "python",
   "nbconvert_exporter": "python",
   "pygments_lexer": "ipython3",
   "version": "3.12.3"
  }
 },
 "nbformat": 4,
 "nbformat_minor": 5
}
