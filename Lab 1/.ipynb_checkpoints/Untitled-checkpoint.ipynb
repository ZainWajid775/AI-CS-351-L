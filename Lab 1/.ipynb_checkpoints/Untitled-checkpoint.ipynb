{
 "cells": [
  {
   "cell_type": "code",
   "execution_count": 5,
   "id": "8d0eedaa-c934-4c54-9fa7-93605b20b45c",
   "metadata": {},
   "outputs": [
    {
     "name": "stdout",
     "output_type": "stream",
     "text": [
      "[54 73  8 57 76 29  8 10 20 32 63 90 12 42 98 85  2 59 48 79 15 28 76 89\n",
      " 43 25 68 30 98 27 77  2 11 71 73  3 21 92 75 90 50 92 18 99 83 92 45 55\n",
      " 25 97 60  7 67 50 78  1 42 23 17 47 97 12 97 62 52 27 10 11 75 94 81 76\n",
      " 41 52 82 16 99 70 77 59 56 34 72 18 73 99 30 29 46 84 88 64 74 34 94 73\n",
      " 12 22 32 48]\n"
     ]
    }
   ],
   "source": [
    "import numpy as np\n",
    "\n",
    "arr = np.array(np.random.randint(1,101,size=100))\n",
    "\n",
    "print(arr)"
   ]
  },
  {
   "cell_type": "code",
   "execution_count": 8,
   "id": "8e04af43-9c4f-4a1e-abd6-c74979c27368",
   "metadata": {},
   "outputs": [
    {
     "name": "stdout",
     "output_type": "stream",
     "text": [
      "52.79\n",
      "54.5\n",
      "30.03840708160138\n"
     ]
    }
   ],
   "source": [
    "print(np.mean(arr))\n",
    "print(np.median(arr))\n",
    "print(np.std(arr))"
   ]
  },
  {
   "cell_type": "code",
   "execution_count": 16,
   "id": "3f40e78e-9830-4b86-b0f8-fad2fb94873c",
   "metadata": {},
   "outputs": [
    {
     "ename": "AttributeError",
     "evalue": "module 'numpy' has no attribute 'head'",
     "output_type": "error",
     "traceback": [
      "\u001b[31m---------------------------------------------------------------------------\u001b[39m",
      "\u001b[31mAttributeError\u001b[39m                            Traceback (most recent call last)",
      "\u001b[36mCell\u001b[39m\u001b[36m \u001b[39m\u001b[32mIn[16]\u001b[39m\u001b[32m, line 2\u001b[39m\n\u001b[32m      1\u001b[39m arr.sort()\n\u001b[32m----> \u001b[39m\u001b[32m2\u001b[39m \u001b[43mnp\u001b[49m\u001b[43m.\u001b[49m\u001b[43mhead\u001b[49m(arr)\n",
      "\u001b[36mFile \u001b[39m\u001b[32m/opt/miniconda3/lib/python3.12/site-packages/numpy/__init__.py:333\u001b[39m, in \u001b[36m__getattr__\u001b[39m\u001b[34m(attr)\u001b[39m\n\u001b[32m    330\u001b[39m     \u001b[33m\"\u001b[39m\u001b[33mRemoved in NumPy 1.25.0\u001b[39m\u001b[33m\"\u001b[39m\n\u001b[32m    331\u001b[39m     \u001b[38;5;28;01mraise\u001b[39;00m \u001b[38;5;167;01mRuntimeError\u001b[39;00m(\u001b[33m\"\u001b[39m\u001b[33mTester was removed in NumPy 1.25.\u001b[39m\u001b[33m\"\u001b[39m)\n\u001b[32m--> \u001b[39m\u001b[32m333\u001b[39m \u001b[38;5;28;01mraise\u001b[39;00m \u001b[38;5;167;01mAttributeError\u001b[39;00m(\u001b[33m\"\u001b[39m\u001b[33mmodule \u001b[39m\u001b[38;5;132;01m{!r}\u001b[39;00m\u001b[33m has no attribute \u001b[39m\u001b[33m\"\u001b[39m\n\u001b[32m    334\u001b[39m                      \u001b[33m\"\u001b[39m\u001b[38;5;132;01m{!r}\u001b[39;00m\u001b[33m\"\u001b[39m.format(\u001b[34m__name__\u001b[39m, attr))\n",
      "\u001b[31mAttributeError\u001b[39m: module 'numpy' has no attribute 'head'"
     ]
    }
   ],
   "source": [
    "arr.sort()\n",
    "np.head(arr)"
   ]
  },
  {
   "cell_type": "code",
   "execution_count": null,
   "id": "7443b041-4c70-45ef-8f36-3a3349b02dca",
   "metadata": {},
   "outputs": [],
   "source": []
  }
 ],
 "metadata": {
  "kernelspec": {
   "display_name": "Python 3 (ipykernel)",
   "language": "python",
   "name": "python3"
  },
  "language_info": {
   "codemirror_mode": {
    "name": "ipython",
    "version": 3
   },
   "file_extension": ".py",
   "mimetype": "text/x-python",
   "name": "python",
   "nbconvert_exporter": "python",
   "pygments_lexer": "ipython3",
   "version": "3.12.3"
  }
 },
 "nbformat": 4,
 "nbformat_minor": 5
}
