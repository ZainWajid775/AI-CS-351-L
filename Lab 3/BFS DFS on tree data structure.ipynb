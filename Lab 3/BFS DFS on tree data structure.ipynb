{
 "cells": [
  {
   "cell_type": "code",
   "execution_count": 2,
   "metadata": {},
   "outputs": [],
   "source": [
    "class Node:\n",
    "    \n",
    "    def __init__(self, v):\n",
    "        self.2 = v\n",
    "        self.left = None\n",
    "        self.right = None\n",
    "        \n",
    "def insert( root, node):\n",
    "    \n",
    "    if root is None:\n",
    "        return node\n",
    "    \n",
    "    if root.val > node.val:\n",
    "        root.left = insert(root.left,node)\n",
    "\n",
    "    elif root.val < node.val:\n",
    "        root.right = insert(root.right,node)\n",
    "\n",
    "    return root\n",
    "\n",
    "val = [10,5,3,7,15,12,17]\n",
    "\n",
    "root = Node(val[0])\n",
    "\n",
    "for i in val:\n",
    "    insert(root,Node(i))\n"
   ]
  },
  {
   "cell_type": "code",
   "execution_count": 32,
   "metadata": {},
   "outputs": [
    {
     "name": "stdout",
     "output_type": "stream",
     "text": [
      "[10]\n",
      "POP:  10\n",
      "\n",
      "[5, 15]\n",
      "POP:  5\n",
      "\n",
      "[15, 3, 7]\n",
      "POP:  15\n",
      "\n",
      "[3, 7, 12, 17]\n",
      "POP:  3\n",
      "\n",
      "[7, 12, 17]\n",
      "POP:  7\n",
      "\n",
      "Result:   [10, 5, 15, 3, 7]\n"
     ]
    }
   ],
   "source": [
    "def BFS(goal):\n",
    "    explored = []\n",
    "    q = []\n",
    "    q.append(root)\n",
    "\n",
    "\n",
    "    while len(q)>0:\n",
    "\n",
    "        #print(q)\n",
    "        \n",
    "        qq = [i.val for i in q]\n",
    "        print(qq)\n",
    "        \n",
    "        node = q.pop(0)\n",
    "        \n",
    "        explored.append(node.val)\n",
    "        \n",
    "        print('POP: ',node.val)\n",
    "        print()\n",
    "\n",
    "        if node.val == goal:\n",
    "            print('Result:  ',explored)\n",
    "            break\n",
    "\n",
    "\n",
    "        if node.left is not None:\n",
    "            q.append(node.left)\n",
    "\n",
    "        if node.right is not None:\n",
    "            q.append(node.right)\n",
    "\n",
    "BFS(7)"
   ]
  },
  {
   "cell_type": "code",
   "execution_count": 31,
   "metadata": {},
   "outputs": [
    {
     "name": "stdout",
     "output_type": "stream",
     "text": [
      "[10]\n",
      "POP:  10\n",
      "\n",
      "[15, 5]\n",
      "POP:  5\n",
      "\n",
      "[15, 7, 3]\n",
      "POP:  3\n",
      "\n",
      "[15, 7]\n",
      "POP:  7\n",
      "\n",
      "Result:   [10, 5, 3, 7]\n"
     ]
    }
   ],
   "source": [
    "def DFS(goal):\n",
    "    explored = []\n",
    "    s = []\n",
    "    s.append(root)\n",
    "\n",
    "\n",
    "    while len(s)>0:\n",
    "\n",
    "        \n",
    "        \n",
    "        ss = [i.val for i in s]\n",
    "        print(ss)\n",
    "        \n",
    "        node = s.pop()\n",
    "        \n",
    "        explored.append(node.val)\n",
    "        \n",
    "        print('POP: ',node.val)\n",
    "        print()\n",
    "\n",
    "        if node.val == goal:\n",
    "            print('Result:  ',explored)\n",
    "            break\n",
    "\n",
    "        if node.right is not None:\n",
    "            s.append(node.right)\n",
    "            \n",
    "        if node.left is not None:\n",
    "            s.append(node.left)\n",
    "\n",
    "\n",
    "\n",
    "DFS(7)"
   ]
  },
  {
   "cell_type": "code",
   "execution_count": 33,
   "metadata": {},
   "outputs": [],
   "source": [
    "import random"
   ]
  },
  {
   "cell_type": "code",
   "execution_count": 35,
   "metadata": {},
   "outputs": [
    {
     "data": {
      "text/plain": [
       "14"
      ]
     },
     "execution_count": 35,
     "metadata": {},
     "output_type": "execute_result"
    }
   ],
   "source": [
    "random.randint(11,45556667)"
   ]
  },
  {
   "cell_type": "code",
   "execution_count": 46,
   "metadata": {},
   "outputs": [
    {
     "data": {
      "text/plain": [
       "[656, 3285, 17643, 10607, 3319, 6060, 15342, 10465, 13332, 15554]"
      ]
     },
     "execution_count": 46,
     "metadata": {},
     "output_type": "execute_result"
    }
   ],
   "source": [
    "li = []\n",
    "\n",
    "for i in range(10):\n",
    "    a =random.randint(1,20007)\n",
    "    li.append(a)\n",
    "li"
   ]
  },
  {
   "cell_type": "code",
   "execution_count": 47,
   "metadata": {},
   "outputs": [
    {
     "data": {
      "text/plain": [
       "[10465, 15554, 17643, 6060, 15342, 10607, 656, 13332, 3285, 3319]"
      ]
     },
     "execution_count": 47,
     "metadata": {},
     "output_type": "execute_result"
    }
   ],
   "source": [
    "list(set(li))"
   ]
  },
  {
   "cell_type": "code",
   "execution_count": 45,
   "metadata": {},
   "outputs": [
    {
     "data": {
      "text/plain": [
       "3"
      ]
     },
     "execution_count": 45,
     "metadata": {},
     "output_type": "execute_result"
    }
   ],
   "source": [
    "len(li) - len(list(set(li)))"
   ]
  },
  {
   "cell_type": "code",
   "execution_count": 48,
   "metadata": {},
   "outputs": [],
   "source": [
    "import time"
   ]
  },
  {
   "cell_type": "code",
   "execution_count": 50,
   "metadata": {},
   "outputs": [],
   "source": [
    "a = time.time()"
   ]
  },
  {
   "cell_type": "code",
   "execution_count": 51,
   "metadata": {},
   "outputs": [
    {
     "data": {
      "text/plain": [
       "8.448212146759033"
      ]
     },
     "execution_count": 51,
     "metadata": {},
     "output_type": "execute_result"
    }
   ],
   "source": [
    "time.time() -a"
   ]
  },
  {
   "cell_type": "code",
   "execution_count": 52,
   "metadata": {},
   "outputs": [],
   "source": [
    "import matplotlib.pyplot as plt"
   ]
  },
  {
   "cell_type": "code",
   "execution_count": 54,
   "metadata": {},
   "outputs": [
    {
     "data": {
      "image/png": "[encoded data removed]",
      "text/plain": [
       "<Figure size 432x288 with 1 Axes>"
      ]
     },
     "metadata": {
      "needs_background": "light"
     },
     "output_type": "display_data"
    }
   ],
   "source": [
    "\n",
    "import matplotlib.pyplot as plt\n",
    "x= [7,2,3,4,5]\n",
    "y = [23, 45, 56, 78, 213]\n",
    "\n",
    "plt.bar(x, y)\n",
    "plt.show()"
   ]
  },
  {
   "cell_type": "code",
   "execution_count": 58,
   "metadata": {},
   "outputs": [
    {
     "data": {
      "image/png": "[encoded data removed]",
      "text/plain": [
       "<Figure size 432x288 with 1 Axes>"
      ]
     },
     "metadata": {
      "needs_background": "light"
     },
     "output_type": "display_data"
    }
   ],
   "source": [
    "import matplotlib.pyplot as plt\n",
    "\n",
    "data = [23, 45, 56, 78, 213]\n",
    "plt.bar(range(len(data)), data, color='b')\n",
    "plt.show()"
   ]
  },
  {
   "cell_type": "code",
   "execution_count": 57,
   "metadata": {},
   "outputs": [
    {
     "data": {
      "text/plain": [
       "range(0, 5)"
      ]
     },
     "execution_count": 57,
     "metadata": {},
     "output_type": "execute_result"
    }
   ],
   "source": [
    "range(len(data))"
   ]
  },
  {
   "cell_type": "code",
   "execution_count": 59,
   "metadata": {},
   "outputs": [
    {
     "data": {
      "image/png": "[encoded data removed]",
      "text/plain": [
       "<Figure size 432x288 with 1 Axes>"
      ]
     },
     "metadata": {
      "needs_background": "light"
     },
     "output_type": "display_data"
    }
   ],
   "source": [
    "import matplotlib.pyplot as plt\n",
    "fig = plt.figure()\n",
    "ax = fig.add_axes([0,0,1,1])\n",
    "langs = ['1000', '5000', '30000']\n",
    "students = [23,17,35]\n",
    "ax.bar(langs,students)\n",
    "plt.show()"
   ]
  },
  {
   "cell_type": "code",
   "execution_count": 63,
   "metadata": {},
   "outputs": [
    {
     "data": {
      "text/plain": [
       "<BarContainer object of 4 artists>"
      ]
     },
     "execution_count": 63,
     "metadata": {},
     "output_type": "execute_result"
    },
    {
     "data": {
      "image/png": "[encoded data removed]",
      "text/plain": [
       "<Figure size 432x288 with 1 Axes>"
      ]
     },
     "metadata": {
      "needs_background": "light"
     },
     "output_type": "display_data"
    }
   ],
   "source": [
    "import numpy as np\n",
    "import matplotlib.pyplot as plt\n",
    "data = [[30, 25, 50, 20],[40, 23, 51, 17]]\n",
    "x = [30, 25, 50, 20]\n",
    "y=[40, 23, 51, 17]\n",
    "X = np.arange(4)\n",
    "fig = plt.figure()\n",
    "ax = fig.add_axes([0,0,1,1])\n",
    "ax.bar(X + 0.00, x, color = 'b', width = 0.25)\n",
    "ax.bar(X + 0.25, y, color = 'g', width = 0.25)\n"
   ]
  },
  {
   "cell_type": "code",
   "execution_count": 67,
   "metadata": {},
   "outputs": [
    {
     "name": "stderr",
     "output_type": "stream",
     "text": [
      "c:\\python36\\lib\\site-packages\\ipykernel_launcher.py:14: MatplotlibDeprecationWarning: Passing the minor parameter of set_ticks() positionally is deprecated since Matplotlib 3.2; the parameter will become keyword-only two minor releases later.\n",
      "  \n"
     ]
    },
    {
     "data": {
      "image/png": "[encoded data removed]",
      "text/plain": [
       "<Figure size 432x288 with 1 Axes>"
      ]
     },
     "metadata": {
      "needs_background": "light"
     },
     "output_type": "display_data"
    }
   ],
   "source": [
    "import numpy as np\n",
    "import matplotlib.pyplot as plt\n",
    "N = 5\n",
    "menMeans = (20, 35, 30, 35, 27)\n",
    "womenMeans = (25, 32, 34, 20, 25)\n",
    "ind = np.arange(N) # the x locations for the groups\n",
    "width = 0.35\n",
    "fig = plt.figure()\n",
    "ax = fig.add_axes([0,0,1,1])\n",
    "ax.bar(ind, menMeans, width, color='r')\n",
    "ax.bar(ind, womenMeans, width,bottom=menMeans, color='cyan')\n",
    "ax.set_ylabel('Scores')\n",
    "ax.set_title('Scores by group and gender')\n",
    "ax.set_xticks(ind, ('1000', '50000', '5656565', '467898789', 'G7974545'))\n",
    "ax.set_yticks(np.arange(0, 81, 10))\n",
    "ax.legend(labels=['DFS', 'BFS'])\n",
    "plt.show()"
   ]
  },
  {
   "cell_type": "code",
   "execution_count": 68,
   "metadata": {},
   "outputs": [],
   "source": [
    "import pandas as pd"
   ]
  },
  {
   "cell_type": "code",
   "execution_count": 69,
   "metadata": {},
   "outputs": [
    {
     "ename": "NameError",
     "evalue": "name 'px' is not defined",
     "output_type": "error",
     "traceback": [
      "\u001b[1;31m---------------------------------------------------------------------------\u001b[0m",
      "\u001b[1;31mNameError\u001b[0m                                 Traceback (most recent call last)",
      "\u001b[1;32m<ipython-input-69-eba47d783a77>\u001b[0m in \u001b[0;36m<module>\u001b[1;34m\u001b[0m\n\u001b[1;32m----> 1\u001b[1;33m \u001b[0mdf\u001b[0m \u001b[1;33m=\u001b[0m \u001b[0mpx\u001b[0m\u001b[1;33m.\u001b[0m\u001b[0mdata\u001b[0m\u001b[1;33m.\u001b[0m\u001b[0miris\u001b[0m\u001b[1;33m(\u001b[0m\u001b[1;33m)\u001b[0m\u001b[1;33m\u001b[0m\u001b[0m\n\u001b[0m\u001b[0;32m      2\u001b[0m \u001b[0mdf\u001b[0m\u001b[1;33m\u001b[0m\u001b[0m\n",
      "\u001b[1;31mNameError\u001b[0m: name 'px' is not defined"
     ]
    }
   ],
   "source": [
    "df = px.data.iris()\n",
    "df"
   ]
  },
  {
   "cell_type": "code",
   "execution_count": null,
   "metadata": {},
   "outputs": [],
   "source": []
  }
 ],
 "metadata": {
  "kernelspec": {
   "display_name": "Python 3",
   "language": "python",
   "name": "python3"
  },
  "language_info": {
   "codemirror_mode": {
    "name": "ipython",
    "version": 3
   },
   "file_extension": ".py",
   "mimetype": "text/x-python",
   "name": "python",
   "nbconvert_exporter": "python",
   "pygments_lexer": "ipython3",
   "version": "3.8.8"
  }
 },
 "nbformat": 4,
 "nbformat_minor": 4
}
