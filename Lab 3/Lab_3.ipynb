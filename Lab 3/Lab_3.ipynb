{
  "nbformat": 4,
  "nbformat_minor": 0,
  "metadata": {
    "colab": {
      "provenance": []
    },
    "kernelspec": {
      "name": "python3",
      "display_name": "Python 3"
    },
    "language_info": {
      "name": "python"
    }
  },
  "cells": [
    {
      "cell_type": "markdown",
      "source": [
        "# **Task 1**"
      ],
      "metadata": {
        "id": "KBo_MenAHEUZ"
      }
    },
    {
      "cell_type": "code",
      "execution_count": 1,
      "metadata": {
        "id": "YmrDZaBdGFgJ"
      },
      "outputs": [],
      "source": [
        "# Binary Tree Node\n",
        "class Node:\n",
        "    def __init__(self, value):\n",
        "        self.value = value\n",
        "        self.left = None\n",
        "        self.right = None"
      ]
    },
    {
      "cell_type": "code",
      "source": [
        "# DFS\n",
        "def dfs(root):\n",
        "    if root is None:\n",
        "        return []\n",
        "\n",
        "    stack, result = [root], []\n",
        "    while stack:\n",
        "        node = stack.pop()\n",
        "        result.append(node.value)\n",
        "        if node.right:\n",
        "            stack.append(node.right)\n",
        "        if node.left:\n",
        "            stack.append(node.left)\n",
        "    return result"
      ],
      "metadata": {
        "id": "Bq_ENc2zGM-o"
      },
      "execution_count": 2,
      "outputs": []
    },
    {
      "cell_type": "code",
      "source": [
        "# BFS\n",
        "from collections import deque\n",
        "\n",
        "def bfs(root):\n",
        "    if root is None:\n",
        "        return []\n",
        "    queue = deque([root])\n",
        "    result = []\n",
        "    while queue:\n",
        "        node = queue.popleft()\n",
        "        result.append(node.value)\n",
        "        if node.left:\n",
        "            queue.append(node.left)\n",
        "        if node.right:\n",
        "            queue.append(node.right)\n",
        "    return result"
      ],
      "metadata": {
        "id": "R2Bepv-eGPu6"
      },
      "execution_count": 3,
      "outputs": []
    },
    {
      "cell_type": "code",
      "source": [
        "root = Node(1)\n",
        "root.left = Node(2)\n",
        "root.right = Node(3)\n",
        "root.left.left = Node(4)\n",
        "root.left.right = Node(5)\n",
        "root.right.right = Node(6)\n",
        "\n",
        "print(\"DFS:\", dfs(root))\n",
        "print(\"BFS:\", bfs(root))\n"
      ],
      "metadata": {
        "colab": {
          "base_uri": "https://localhost:8080/"
        },
        "id": "lc2F7c8pGR8l",
        "outputId": "0dd14aaa-c533-4e3d-ad09-21a1e591969d"
      },
      "execution_count": 4,
      "outputs": [
        {
          "output_type": "stream",
          "name": "stdout",
          "text": [
            "DFS: [1, 2, 4, 5, 3, 6]\n",
            "BFS: [1, 2, 3, 4, 5, 6]\n"
          ]
        }
      ]
    },
    {
      "cell_type": "markdown",
      "source": [
        "# **Task 2**"
      ],
      "metadata": {
        "id": "sRV6gHk4HQxx"
      }
    },
    {
      "cell_type": "code",
      "source": [
        "from binarytree import tree\n",
        "from anytree import Node, RenderTree\n",
        "from collections import deque\n",
        "\n",
        "# Generating random tree of height 3\n",
        "\n",
        "btree = tree(height=3, is_perfect=False)\n",
        "print(\"Generated Binary Tree (binarytree library):\")\n",
        "print(btree)\n"
      ],
      "metadata": {
        "colab": {
          "base_uri": "https://localhost:8080/"
        },
        "id": "N_RQrGVKGY8v",
        "outputId": "bb774015-982b-4664-9bbd-467d908e6ee0"
      },
      "execution_count": 16,
      "outputs": [
        {
          "output_type": "stream",
          "name": "stdout",
          "text": [
            "Generated Binary Tree (binarytree library):\n",
            "\n",
            "      _______1_____\n",
            "     /             \\\n",
            "  __13__           _14\n",
            " /      \\         /   \\\n",
            "9        7       11    5\n",
            " \\      / \\     /\n",
            "  3    8   2   4\n",
            "\n"
          ]
        }
      ]
    },
    {
      "cell_type": "code",
      "source": [
        "# Converting to anytree\n",
        "def convert_to_anytree(bnode):\n",
        "    if bnode is None:\n",
        "        return None\n",
        "    node = Node(str(bnode.value))\n",
        "    if bnode.left:\n",
        "        node.left = convert_to_anytree(bnode.left)\n",
        "        node.left.parent = node\n",
        "    if bnode.right:\n",
        "        node.right = convert_to_anytree(bnode.right)\n",
        "        node.right.parent = node\n",
        "    return node\n",
        "\n",
        "# Root of anytree\n",
        "anytree_root = convert_to_anytree(btree)\n",
        "\n",
        "print(\"\\nEquivalent Tree (anytree visualization):\")\n",
        "for pre, fill, node in RenderTree(anytree_root):\n",
        "    print(\"%s%s\" % (pre, node.name))\n"
      ],
      "metadata": {
        "colab": {
          "base_uri": "https://localhost:8080/"
        },
        "id": "Z1peLyxnG-EB",
        "outputId": "de22835b-5a0c-4f9c-8d67-63eb2d43ecb6"
      },
      "execution_count": 17,
      "outputs": [
        {
          "output_type": "stream",
          "name": "stdout",
          "text": [
            "\n",
            "Equivalent Tree (anytree visualization):\n",
            "1\n",
            "├── 13\n",
            "│   ├── 9\n",
            "│   │   └── 3\n",
            "│   └── 7\n",
            "│       ├── 8\n",
            "│       └── 2\n",
            "└── 14\n",
            "    ├── 11\n",
            "    │   └── 4\n",
            "    └── 5\n"
          ]
        }
      ]
    },
    {
      "cell_type": "markdown",
      "source": [
        "# **Task 3**"
      ],
      "metadata": {
        "id": "wGSicPxsH7Kz"
      }
    },
    {
      "cell_type": "code",
      "source": [
        "# Applying BFS and DFS on binarytree\n",
        "bfs_path = bfs(btree)\n",
        "dfs_path = dfs(btree)\n",
        "\n",
        "print(\"\\nTraversal Paths:\")\n",
        "print(\"BFS Path:\", bfs_path)\n",
        "print(\"DFS Path:\", dfs_path)"
      ],
      "metadata": {
        "colab": {
          "base_uri": "https://localhost:8080/"
        },
        "id": "VJr5TI4zH_zX",
        "outputId": "ade853fd-4359-43f8-a5be-5beec77a8519"
      },
      "execution_count": 18,
      "outputs": [
        {
          "output_type": "stream",
          "name": "stdout",
          "text": [
            "\n",
            "Traversal Paths:\n",
            "BFS Path: [1, 13, 14, 9, 7, 11, 5, 3, 8, 2, 4]\n",
            "DFS Path: [1, 13, 9, 3, 7, 8, 2, 14, 11, 4, 5]\n"
          ]
        }
      ]
    },
    {
      "cell_type": "markdown",
      "source": [
        "# Task **4**"
      ],
      "metadata": {
        "id": "tzETUCrOIcLi"
      }
    },
    {
      "cell_type": "code",
      "source": [
        "# Benchmarking\n",
        "heights = [4, 6, 8]\n",
        "results = []\n",
        "\n",
        "print(f\"{'Height':<10}{'Nodes':<10}{'BFS Time (s)':<15}{'DFS Time (s)':<15}\")\n",
        "print(\"-\" * 50)\n",
        "\n",
        "for h in heights:\n",
        "    btree = tree(height=h, is_perfect=False)   # random binary tree\n",
        "    num_nodes = btree.size                     # number of actual nodes\n",
        "\n",
        "    start = time.time()\n",
        "    bfs(btree)\n",
        "    bfs_time = time.time() - start\n",
        "\n",
        "    start = time.time()\n",
        "    dfs(btree)\n",
        "    dfs_time = time.time() - start\n",
        "\n",
        "    results.append((h, num_nodes, bfs_time, dfs_time))\n",
        "    print(f\"{h:<10}{num_nodes:<10}{bfs_time:<15.6f}{dfs_time:<15.6f}\")\n"
      ],
      "metadata": {
        "colab": {
          "base_uri": "https://localhost:8080/"
        },
        "id": "hzSoYc5nIeHw",
        "outputId": "fd8271fd-ec3f-47f3-e3d7-3b66ab0dde3d"
      },
      "execution_count": 29,
      "outputs": [
        {
          "output_type": "stream",
          "name": "stdout",
          "text": [
            "Height    Nodes     BFS Time (s)   DFS Time (s)   \n",
            "--------------------------------------------------\n",
            "4         23        0.000062       0.000030       \n",
            "6         99        0.000141       0.000141       \n",
            "8         221       0.000958       0.000927       \n"
          ]
        }
      ]
    },
    {
      "cell_type": "markdown",
      "source": [
        "# **Task 5**"
      ],
      "metadata": {
        "id": "TnC0iLyFLjqI"
      }
    },
    {
      "cell_type": "code",
      "source": [
        "# Plotting time complexity\n",
        "\n",
        "import matplotlib.pyplot as plt\n",
        "\n",
        "nodes, bfs_times, dfs_times = zip(*[(n, bfs_t, dfs_t) for _, n, bfs_t, dfs_t in results])\n",
        "\n",
        "plt.figure(figsize=(8, 6))\n",
        "plt.plot(nodes, bfs_times, marker='o', label=\"BFS\")\n",
        "plt.plot(nodes, dfs_times, marker='s', label=\"DFS\")\n",
        "\n",
        "plt.xlabel(\"Number of Nodes\")\n",
        "plt.ylabel(\"Execution Time (seconds)\")\n",
        "plt.title(\"BFS vs DFS Execution Time on Random Binary Trees\")\n",
        "plt.legend()\n",
        "plt.grid(True)\n",
        "plt.show()"
      ],
      "metadata": {
        "colab": {
          "base_uri": "https://localhost:8080/",
          "height": 564
        },
        "id": "WfNXLbb0Lmh8",
        "outputId": "c6c4234e-e43d-48bd-db7b-bd251eac1c5f"
      },
      "execution_count": 30,
      "outputs": [
        {
          "output_type": "display_data",
          "data": {
            "text/plain": [
              "<Figure size 800x600 with 1 Axes>"
            ],
            "image/png": "[encoded data removed]"
          },
          "metadata": {}
        }
      ]
    }
  ]
}