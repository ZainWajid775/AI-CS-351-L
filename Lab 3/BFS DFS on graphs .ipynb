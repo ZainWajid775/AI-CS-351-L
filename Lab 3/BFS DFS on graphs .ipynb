{
 "cells": [
  {
   "cell_type": "code",
   "execution_count": 1,
   "metadata": {},
   "outputs": [],
   "source": [
    "d = {\n",
    " 'A': ['B','C','D','H'], \n",
    " 'B': ['C','G'],\n",
    " 'C': ['G'],\n",
    " 'D': ['C','G'],\n",
    " 'H': ['I'],\n",
    " 'I': ['D','G'],\n",
    " 'G': []\n",
    "}"
   ]
  },
  {
   "cell_type": "code",
   "execution_count": 5,
   "metadata": {},
   "outputs": [
    {
     "data": {
      "text/plain": [
       "['B', 'C', 'D', 'H']"
      ]
     },
     "execution_count": 5,
     "metadata": {},
     "output_type": "execute_result"
    }
   ],
   "source": [
    "d.get('A')"
   ]
  },
  {
   "cell_type": "code",
   "execution_count": 4,
   "metadata": {},
   "outputs": [
    {
     "data": {
      "text/plain": [
       "['B', 'C', 'D', 'H']"
      ]
     },
     "execution_count": 4,
     "metadata": {},
     "output_type": "execute_result"
    }
   ],
   "source": [
    "d['A']"
   ]
  },
  {
   "cell_type": "code",
   "execution_count": 11,
   "metadata": {},
   "outputs": [
    {
     "data": {
      "text/plain": [
       "[9]"
      ]
     },
     "execution_count": 11,
     "metadata": {},
     "output_type": "execute_result"
    }
   ],
   "source": [
    "q = []\n",
    "c = [1,2]\n",
    "q.append(9)\n",
    "q"
   ]
  },
  {
   "cell_type": "code",
   "execution_count": 7,
   "metadata": {},
   "outputs": [
    {
     "data": {
      "text/plain": [
       "[1, 2]"
      ]
     },
     "execution_count": 7,
     "metadata": {},
     "output_type": "execute_result"
    }
   ],
   "source": [
    "c"
   ]
  },
  {
   "cell_type": "code",
   "execution_count": 8,
   "metadata": {},
   "outputs": [],
   "source": [
    "q.append(c)"
   ]
  },
  {
   "cell_type": "code",
   "execution_count": 7,
   "metadata": {},
   "outputs": [
    {
     "data": {
      "text/plain": [
       "[9, [1, 2]]"
      ]
     },
     "execution_count": 7,
     "metadata": {},
     "output_type": "execute_result"
    }
   ],
   "source": [
    "q"
   ]
  },
  {
   "cell_type": "code",
   "execution_count": null,
   "metadata": {},
   "outputs": [],
   "source": [
    "[9,1,2]"
   ]
  },
  {
   "cell_type": "code",
   "execution_count": null,
   "metadata": {},
   "outputs": [],
   "source": []
  },
  {
   "cell_type": "code",
   "execution_count": 23,
   "metadata": {},
   "outputs": [
    {
     "data": {
      "text/plain": [
       "['B-2', 'C-5', 'D-6']"
      ]
     },
     "execution_count": 23,
     "metadata": {},
     "output_type": "execute_result"
    }
   ],
   "source": [
    "a = 'B:2,C-5,D-6'.split(',')\n",
    "a"
   ]
  },
  {
   "cell_type": "code",
   "execution_count": 24,
   "metadata": {},
   "outputs": [
    {
     "data": {
      "text/plain": [
       "['B', '2']"
      ]
     },
     "execution_count": 24,
     "metadata": {},
     "output_type": "execute_result"
    }
   ],
   "source": [
    "a[0].split('-')"
   ]
  },
  {
   "cell_type": "code",
   "execution_count": 3,
   "metadata": {},
   "outputs": [
    {
     "data": {
      "text/plain": [
       "['C', 'G']"
      ]
     },
     "execution_count": 3,
     "metadata": {},
     "output_type": "execute_result"
    }
   ],
   "source": [
    "d.get('B')"
   ]
  },
  {
   "cell_type": "code",
   "execution_count": 4,
   "metadata": {},
   "outputs": [
    {
     "data": {
      "text/plain": [
       "['C', 'G']"
      ]
     },
     "execution_count": 4,
     "metadata": {},
     "output_type": "execute_result"
    }
   ],
   "source": [
    "d['B']"
   ]
  },
  {
   "cell_type": "code",
   "execution_count": 29,
   "metadata": {},
   "outputs": [
    {
     "name": "stdout",
     "output_type": "stream",
     "text": [
      "['A']\n",
      "POP:  A\n",
      "[]\n",
      "------------------------------------------------------------\n",
      "EXPLORED:  ['A']\n",
      "['B', 'C', 'D', 'H']\n",
      "Q: -->>  ['B', 'C', 'D', 'H']\n",
      "-----------------END iteration---------------\n",
      "['B', 'C', 'D', 'H']\n",
      "POP:  B\n",
      "['C', 'D', 'H']\n",
      "------------------------------------------------------------\n",
      "EXPLORED:  ['A', 'B']\n",
      "['C', 'G']\n",
      "Q: -->>  ['C', 'D', 'H', 'G']\n",
      "-----------------END iteration---------------\n",
      "['C', 'D', 'H', 'G']\n",
      "POP:  C\n",
      "['D', 'H', 'G']\n",
      "------------------------------------------------------------\n",
      "EXPLORED:  ['A', 'B', 'C']\n",
      "['G']\n",
      "Q: -->>  ['D', 'H', 'G']\n",
      "-----------------END iteration---------------\n",
      "['D', 'H', 'G']\n",
      "POP:  D\n",
      "['H', 'G']\n",
      "------------------------------------------------------------\n",
      "EXPLORED:  ['A', 'B', 'C', 'D']\n",
      "['C', 'G']\n",
      "Q: -->>  ['H', 'G']\n",
      "-----------------END iteration---------------\n",
      "['H', 'G']\n",
      "POP:  H\n",
      "['G']\n",
      "------------------------------------------------------------\n",
      "EXPLORED:  ['A', 'B', 'C', 'D', 'H']\n",
      "['I']\n",
      "Q: -->>  ['G', 'I']\n",
      "-----------------END iteration---------------\n",
      "['G', 'I']\n",
      "POP:  G\n",
      "['I']\n",
      "------------------------------------------------------------\n",
      "EXPLORED:  ['A', 'B', 'C', 'D', 'H', 'G']\n",
      "Result:  ['A', 'B', 'C', 'D', 'H', 'G']\n"
     ]
    }
   ],
   "source": [
    "goal = 'G'\n",
    "q = []\n",
    "q.append('A')\n",
    "explored = []\n",
    "\n",
    "while len(q)>0:\n",
    "\n",
    "    print(q)\n",
    "    node = q.pop(0)\n",
    "    print('POP: ',node)\n",
    "    print(q)\n",
    "    print(60*'-')\n",
    "    \n",
    "    if node not in explored:\n",
    "        explored.append(node)\n",
    "    print('EXPLORED: ',explored)\n",
    "    \n",
    "    if node == goal:\n",
    "        print('Result: ',explored)\n",
    "        break\n",
    "        \n",
    "    child = d.get(node)\n",
    "    print(child)\n",
    "    \n",
    "    for i in child:\n",
    "        if i not in q and i not in explored:\n",
    "            q.append(i)\n",
    "        \n",
    "    print('Q: -->> ',q)\n",
    "    print('-----------------END iteration---------------')\n",
    "        \n",
    "    \n",
    "    "
   ]
  },
  {
   "cell_type": "code",
   "execution_count": null,
   "metadata": {},
   "outputs": [],
   "source": []
  },
  {
   "cell_type": "code",
   "execution_count": 30,
   "metadata": {
    "collapsed": true,
    "jupyter": {
     "outputs_hidden": true
    }
   },
   "outputs": [
    {
     "name": "stdout",
     "output_type": "stream",
     "text": [
      "['A']\n",
      "POP:  A\n",
      "[]\n",
      "['B', 'C', 'D', 'H']\n",
      "['B', 'C', 'D', 'H']\n",
      "POP:  B\n",
      "['C', 'D', 'H']\n",
      "['C', 'G']\n",
      "['C', 'D', 'H', 'G']\n",
      "POP:  C\n",
      "['D', 'H', 'G']\n",
      "['G']\n",
      "['D', 'H', 'G']\n",
      "POP:  D\n",
      "['H', 'G']\n",
      "['C', 'G']\n",
      "['H', 'G']\n",
      "POP:  H\n",
      "['G']\n",
      "['I']\n",
      "['G', 'I']\n",
      "POP:  G\n",
      "['I']\n"
     ]
    },
    {
     "data": {
      "text/plain": [
       "['A', 'B', 'C', 'D', 'H', 'G']"
      ]
     },
     "execution_count": 30,
     "metadata": {},
     "output_type": "execute_result"
    }
   ],
   "source": [
    "\n",
    "\n",
    "def BFS(d,goal):\n",
    "    q = []\n",
    "    q.append('A')\n",
    "    explored = []\n",
    "\n",
    "    while len(q)>0:\n",
    "\n",
    "        print(q)\n",
    "        node = q.pop(0)\n",
    "\n",
    "        print('POP: ',node)\n",
    "\n",
    "        print(q)\n",
    "\n",
    "        if node not in explored:\n",
    "            explored.append(node)\n",
    "\n",
    "        if node == goal:\n",
    "             return explored\n",
    "\n",
    "        child = d.get(node)\n",
    "        print(child)\n",
    "\n",
    "        for i in child:\n",
    "            if i not in explored and i not in q:\n",
    "                #print(i)\n",
    "                q.append(i)\n",
    "\n",
    "BFS(d,'G')\n",
    "\n",
    "\n",
    "\n",
    "\n"
   ]
  },
  {
   "cell_type": "code",
   "execution_count": 2,
   "metadata": {},
   "outputs": [
    {
     "name": "stdout",
     "output_type": "stream",
     "text": [
      "['A']\n",
      "POP:  A\n",
      "[]\n",
      "['B', 'C', 'D', 'H']\n",
      "['B', 'C', 'D', 'H']\n",
      "POP:  B\n",
      "['C', 'D', 'H']\n",
      "['C', 'G']\n",
      "['C', 'D', 'H', 'G']\n",
      "POP:  C\n",
      "['D', 'H', 'G']\n",
      "['G']\n",
      "['D', 'H', 'G']\n",
      "POP:  D\n",
      "['H', 'G']\n",
      "['C', 'G']\n",
      "['H', 'G']\n",
      "POP:  H\n",
      "['G']\n",
      "['I']\n",
      "['G', 'I']\n",
      "POP:  G\n",
      "['I']\n"
     ]
    },
    {
     "data": {
      "text/plain": [
       "['A', 'B', 'C', 'D', 'H', 'G']"
      ]
     },
     "execution_count": 2,
     "metadata": {},
     "output_type": "execute_result"
    }
   ],
   "source": [
    "\n",
    "\n",
    "def BFS(d,goal):\n",
    "    q = []\n",
    "    q.append('A')\n",
    "    explored = []\n",
    "\n",
    "    while len(q)>0:\n",
    "\n",
    "        print(q)\n",
    "        node = q.pop(0)\n",
    "\n",
    "        print('POP: ',node)\n",
    "\n",
    "        print(q)\n",
    "\n",
    "        if node not in explored:\n",
    "            explored.append(node)\n",
    "\n",
    "        if node == goal:\n",
    "             return explored\n",
    "\n",
    "        child = d.get(node)\n",
    "        print(child)\n",
    "\n",
    "        for i in child:\n",
    "            if i not in explored and i not in q:\n",
    "                #print(i)\n",
    "                q.append(i)\n",
    "\n",
    "BFS(d,'G')\n",
    "\n",
    "\n",
    "\n",
    "\n"
   ]
  },
  {
   "cell_type": "code",
   "execution_count": 32,
   "metadata": {},
   "outputs": [
    {
     "data": {
      "text/plain": [
       "['A', 'B', 'C', 'D', 'H', 'G']"
      ]
     },
     "execution_count": 32,
     "metadata": {},
     "output_type": "execute_result"
    }
   ],
   "source": [
    "BFS(d,'G')"
   ]
  },
  {
   "cell_type": "code",
   "execution_count": 35,
   "metadata": {},
   "outputs": [],
   "source": [
    "def DFS(d,goal):\n",
    "    \n",
    "    s = []\n",
    "    s.append('A')\n",
    "    explored = []\n",
    "    \n",
    "    while len(s)>0:\n",
    "        \n",
    "        #print(s)\n",
    "        node = s.pop() \n",
    "        \n",
    "        #print(q)\n",
    "        \n",
    "        #print('-------------------------')\n",
    "        \n",
    "        if node not in explored:\n",
    "            explored.append(node)\n",
    "        \n",
    "        if node == goal:\n",
    "            return explored\n",
    "            \n",
    "        #print(node)\n",
    "        \n",
    "        child = d.get(node)\n",
    "        \n",
    "        #q.append(child)   x\n",
    "        \n",
    "        for i in child:\n",
    "            \n",
    "            if i not in explored and i not in s:\n",
    "                \n",
    "                s.append(i)\n",
    "        \n",
    "\n",
    "\n",
    "    \n",
    "    "
   ]
  },
  {
   "cell_type": "code",
   "execution_count": 36,
   "metadata": {},
   "outputs": [
    {
     "data": {
      "text/plain": [
       "['A', 'H', 'I', 'G']"
      ]
     },
     "execution_count": 36,
     "metadata": {},
     "output_type": "execute_result"
    }
   ],
   "source": [
    "DFS(d,'G')"
   ]
  },
  {
   "cell_type": "code",
   "execution_count": null,
   "metadata": {},
   "outputs": [],
   "source": []
  }
 ],
 "metadata": {
  "kernelspec": {
   "display_name": "Python 3",
   "language": "python",
   "name": "python3"
  },
  "language_info": {
   "codemirror_mode": {
    "name": "ipython",
    "version": 3
   },
   "file_extension": ".py",
   "mimetype": "text/x-python",
   "name": "python",
   "nbconvert_exporter": "python",
   "pygments_lexer": "ipython3",
   "version": "3.8.8"
  }
 },
 "nbformat": 4,
 "nbformat_minor": 4
}
